{
  "nbformat": 4,
  "nbformat_minor": 0,
  "metadata": {
    "colab": {
      "name": "Copie de wows_scraping.ipynb",
      "provenance": [],
      "collapsed_sections": []
    },
    "kernelspec": {
      "name": "python3",
      "display_name": "Python 3"
    }
  },
  "cells": [
    {
      "cell_type": "markdown",
      "metadata": {
        "id": "In5mf_BUrW4I",
        "colab_type": "text"
      },
      "source": [
        "# Wows replay scraping notebook"
      ]
    },
    {
      "cell_type": "code",
      "metadata": {
        "id": "3UwQnu6XvFkM",
        "colab_type": "code",
        "colab": {
          "base_uri": "https://localhost:8080/",
          "height": 34
        },
        "outputId": "ed5bf80e-00ae-4af6-c733-970d5338f106"
      },
      "source": [
        "from google.colab import drive\n",
        "drive.mount('/content/drive')\n"
      ],
      "execution_count": null,
      "outputs": [
        {
          "output_type": "stream",
          "text": [
            "Drive already mounted at /content/drive; to attempt to forcibly remount, call drive.mount(\"/content/drive\", force_remount=True).\n"
          ],
          "name": "stdout"
        }
      ]
    },
    {
      "cell_type": "code",
      "metadata": {
        "id": "qTUpTU18vP6C",
        "colab_type": "code",
        "colab": {}
      },
      "source": [
        "import os\n",
        "import re\n",
        "import json\n",
        "import numpy as np\n",
        "import requests\n",
        "import time\n",
        "import sys\n",
        "import traceback\n"
      ],
      "execution_count": null,
      "outputs": []
    },
    {
      "cell_type": "markdown",
      "metadata": {
        "id": "KBbBfPnTvh-x",
        "colab_type": "text"
      },
      "source": [
        "## Get the ship list"
      ]
    },
    {
      "cell_type": "code",
      "metadata": {
        "id": "6PqiV2qzvf7-",
        "colab_type": "code",
        "colab": {}
      },
      "source": [
        "r = requests.get('https://api.worldofwarships.eu/wows/encyclopedia/ships/?application_id=TOFILL&fields=ship_id%2C+name&page_no=1')\n"
      ],
      "execution_count": null,
      "outputs": []
    },
    {
      "cell_type": "code",
      "metadata": {
        "id": "IR6YomemvkGI",
        "colab_type": "code",
        "colab": {}
      },
      "source": [
        "initial_content = json.loads(r.content)\n",
        "page_total = initial_content[\"meta\"][\"page_total\"]"
      ],
      "execution_count": null,
      "outputs": []
    },
    {
      "cell_type": "code",
      "metadata": {
        "id": "0o2SNXpqvlqm",
        "colab_type": "code",
        "colab": {}
      },
      "source": [
        "ships = []\n",
        "ships_name = []\n",
        "data = initial_content[\"data\"]\n",
        "for elem in data:\n",
        "    ships.append(elem)\n",
        "    ships_name.append(data[elem][\"name\"])"
      ],
      "execution_count": null,
      "outputs": []
    },
    {
      "cell_type": "code",
      "metadata": {
        "id": "6MB9kI2uvm5E",
        "colab_type": "code",
        "colab": {}
      },
      "source": [
        "for i in range(2, page_total+1):\n",
        "    r = requests.get(f'https://api.worldofwarships.eu/wows/encyclopedia/ships/?application_id=TOFILL&fields=ship_id%2C+name&page_no={i}')\n",
        "    content = json.loads(r.content)\n",
        "    data = content[\"data\"]\n",
        "    for elem in data:\n",
        "        ships.append(elem)\n",
        "        ships_name.append(data[elem][\"name\"])"
      ],
      "execution_count": null,
      "outputs": []
    },
    {
      "cell_type": "code",
      "metadata": {
        "id": "YGlh6rH6vn_1",
        "colab_type": "code",
        "colab": {
          "base_uri": "https://localhost:8080/",
          "height": 34
        },
        "outputId": "31352523-7994-477a-fbb8-cfb825bc9b49"
      },
      "source": [
        "len(ships)"
      ],
      "execution_count": null,
      "outputs": [
        {
          "output_type": "execute_result",
          "data": {
            "text/plain": [
              "434"
            ]
          },
          "metadata": {
            "tags": []
          },
          "execution_count": 7
        }
      ]
    },
    {
      "cell_type": "markdown",
      "metadata": {
        "id": "PCMq_RV5vqtg",
        "colab_type": "text"
      },
      "source": [
        "## Scrap a single replay"
      ]
    },
    {
      "cell_type": "code",
      "metadata": {
        "id": "dBftHnBAvpCb",
        "colab_type": "code",
        "colab": {}
      },
      "source": [
        "data_train = np.empty((0,877), int)\n",
        "time_table = []\n",
        "for replay_nb in range(93100, 93100+1):\n",
        "    timea = time.time()\n",
        "    r = requests.get(f\"https://replayswows.com/replay/{replay_nb}#stats\")\n",
        "    victory = 0\n",
        "    if re.findall(b\"DEFEAT\", r.content):\n",
        "        victory = 0\n",
        "    elif re.findall(b\"DRAW\", r.content):\n",
        "        continue\n",
        "    else:\n",
        "        victory = 1\n",
        "    indicatif = \"\"\n",
        "    if re.findall(b\"\\(NA\\)\", r.content):\n",
        "        indicatif = \"com\"\n",
        "    elif re.findall(b\"\\(EU\\)\", r.content):\n",
        "        indicatif = \"eu\"\n",
        "    elif re.findall(b\"\\(ASIA\\)\", r.content):\n",
        "        indicatif = \"asia\"\n",
        "    elif re.findall(b\"\\(RU\\)\", r.content):\n",
        "        indicatif = \"ru\"\n",
        "    else:\n",
        "        continue\n",
        "    r = requests.get(f\"https://replayswows.com/replay/download/{replay_nb}\")\n",
        "    string = r.content.decode(errors='ignore')\n",
        "    b = re.findall(r\"\\{[\\x20-\\x7D]*\\}\", string)\n",
        "    to_json = b[0]\n",
        "    try:\n",
        "        jsonized = json.loads(to_json)\n",
        "    except:\n",
        "        continue\n",
        "    vector1 = [0 for _ in range(len(ships))]\n",
        "    vector2 = [0 for _ in range(len(ships))]\n",
        "    ships = np.array(ships)\n",
        "    player_names1, player_names2 = [], []\n",
        "    player_id1, player_id2 = [], []\n",
        "    player_wr1, player_wr2 = [], []\n",
        "    player_exp1, player_exp2 = [], []\n",
        "    for player in jsonized[\"vehicles\"]:\n",
        "        try:\n",
        "          vec_number = np.where(ships==str(player[\"shipId\"]))[0][0]\n",
        "          if player[\"relation\"] in [0, 1]:\n",
        "              vector1[vec_number] += 1\n",
        "          else:\n",
        "              vector2[vec_number] += 1\n",
        "        except:\n",
        "          continue\n",
        "        \n",
        "        if player[\"relation\"] in [0, 1]:\n",
        "            if player[\"name\"][0] == ':' or \"IDS_OP\" in player[\"name\"]:\n",
        "              continue\n",
        "            player_names1.append(player[\"name\"])\n",
        "        else:\n",
        "            if player[\"name\"][0] == ':' or \"IDS_OP\" in player[\"name\"]:\n",
        "              continue\n",
        "            player_names2.append(player[\"name\"])\n",
        "    if (not player_names1) or (not player_names2):\n",
        "      continue\n",
        "    requestable_names = \"%2C\".join(player_names1) + \"%2C\" + \"%2C\".join(player_names2)\n",
        "    r = requests.get(f'https://api.worldofwarships.{indicatif}/wows/account/list/?search={requestable_names}&application_id=TOFILL&type=exact')\n",
        "    player_dict = {}\n",
        "    try:\n",
        "      json.loads(r.content)[\"data\"]\n",
        "    except:\n",
        "      print(json.loads(r.content))\n",
        "      print(replay_nb)\n",
        "    for account in json.loads(r.content)[\"data\"]:\n",
        "      player_dict[account[\"nickname\"]] = account[\"account_id\"]\n",
        "    player_id1 = [str(player_dict.get(elem, None)) for elem in player_names1 if player_dict.get(elem, None)!= None]\n",
        "    player_id2 = [str(player_dict.get(elem, None)) for elem in player_names2 if player_dict.get(elem, None)!= None]\n",
        "    requestable_ids = \"%2C\".join(player_id1) + \"%2C\" + \"%2C\".join(player_id2)\n",
        "    if (not player_id1) or (not player_id2):\n",
        "      continue\n",
        "    r = requests.get(f\"https://api.worldofwarships.{indicatif}/wows/account/info/?application_id=TOFILL&account_id={requestable_ids}&fields=statistics.pvp.xp%2Cstatistics.pvp.battles%2Cstatistics.pvp.wins%2Cstatistics.pvp.losses\")\n",
        "    a = json.loads(r.content)[\"data\"]\n",
        "    player_exp1 = ([a[id][\"statistics\"][\"pvp\"][\"xp\"]/a[id][\"statistics\"][\"pvp\"][\"battles\"] for id in player_id1 if a[id][\"statistics\"]!=None and a[id][\"statistics\"][\"pvp\"][\"battles\"]!=0])\n",
        "    player_wr1 = ([a[id][\"statistics\"][\"pvp\"][\"wins\"]/a[id][\"statistics\"][\"pvp\"][\"battles\"] for id in player_id1 if a[id][\"statistics\"]!=None and a[id][\"statistics\"][\"pvp\"][\"battles\"]!=0])\n",
        "    player_exp2 = ([a[id][\"statistics\"][\"pvp\"][\"xp\"]/a[id][\"statistics\"][\"pvp\"][\"battles\"] for id in player_id2 if a[id][\"statistics\"]!=None and a[id][\"statistics\"][\"pvp\"][\"battles\"]!=0])\n",
        "    player_wr2 = ([a[id][\"statistics\"][\"pvp\"][\"wins\"]/a[id][\"statistics\"][\"pvp\"][\"battles\"] for id in player_id2 if a[id][\"statistics\"]!=None and a[id][\"statistics\"][\"pvp\"][\"battles\"]!=0])\n",
        "\n",
        "    train = vector1 + [np.mean(player_exp1), np.max(player_exp1), np.mean(player_wr1), np.max(player_wr2)] + vector2 + [np.mean(player_exp1), np.max(player_exp1), np.mean(player_wr1), np.max(player_wr2)] + [victory]\n",
        "    timeb = - timea + time.time()\n",
        "    time_table.append(timeb)\n",
        "    data_train = np.vstack((data_train, train))\n"
      ],
      "execution_count": null,
      "outputs": []
    },
    {
      "cell_type": "code",
      "metadata": {
        "id": "QcArsGNaw-_8",
        "colab_type": "code",
        "colab": {
          "base_uri": "https://localhost:8080/",
          "height": 102
        },
        "outputId": "411e0d8b-4ef2-40ca-ef2d-6d1b68255508"
      },
      "source": [
        "np.mean(time_table)"
      ],
      "execution_count": null,
      "outputs": [
        {
          "output_type": "stream",
          "text": [
            "/usr/local/lib/python3.6/dist-packages/numpy/core/fromnumeric.py:3335: RuntimeWarning: Mean of empty slice.\n",
            "  out=out, **kwargs)\n",
            "/usr/local/lib/python3.6/dist-packages/numpy/core/_methods.py:161: RuntimeWarning: invalid value encountered in double_scalars\n",
            "  ret = ret.dtype.type(ret / rcount)\n"
          ],
          "name": "stderr"
        },
        {
          "output_type": "execute_result",
          "data": {
            "text/plain": [
              "nan"
            ]
          },
          "metadata": {
            "tags": []
          },
          "execution_count": 14
        }
      ]
    },
    {
      "cell_type": "markdown",
      "metadata": {
        "id": "62mPBugWUDcW",
        "colab_type": "text"
      },
      "source": [
        "## Multithreaded version to scrap a lot of replays"
      ]
    },
    {
      "cell_type": "code",
      "metadata": {
        "id": "P2n2_J4fWpBF",
        "colab_type": "code",
        "colab": {}
      },
      "source": [
        "from queue  import Queue\n",
        "from threading import Thread\n",
        "import threading\n"
      ],
      "execution_count": null,
      "outputs": []
    },
    {
      "cell_type": "code",
      "metadata": {
        "id": "gzMVTLQ2RrIu",
        "colab_type": "code",
        "colab": {}
      },
      "source": [
        "def get_data(borneinf, bornesup, queue, time_queue, ships):\n",
        "  data_train = np.empty((0,877))\n",
        "  for replay_nb in range(borneinf, bornesup+1):\n",
        "      r = requests.get(f\"https://replayswows.com/replay/{replay_nb}#stats\")\n",
        "      victory = 0\n",
        "      if re.findall(b\"DEFEAT\", r.content):\n",
        "          victory = 0\n",
        "      elif re.findall(b\"DRAW\", r.content):\n",
        "          continue\n",
        "      else:\n",
        "          victory = 1\n",
        "      indicatif = \"\"\n",
        "      if re.findall(b\"\\(NA\\)\", r.content):\n",
        "          indicatif = \"com\"\n",
        "      elif re.findall(b\"\\(EU\\)\", r.content):\n",
        "          indicatif = \"eu\"\n",
        "      elif re.findall(b\"\\(ASIA\\)\", r.content):\n",
        "          indicatif = \"asia\"\n",
        "      elif re.findall(b\"\\(RU\\)\", r.content):\n",
        "          indicatif = \"ru\"\n",
        "      else:\n",
        "          continue\n",
        "      r = requests.get(f\"https://replayswows.com/replay/download/{replay_nb}\")\n",
        "      string = r.content.decode(errors='ignore')\n",
        "      b = re.findall(r\"\\{[\\x20-\\x7D]*\\}\", string)\n",
        "      to_json = b[0]\n",
        "      try:\n",
        "          jsonized = json.loads(to_json)\n",
        "      except:\n",
        "          continue\n",
        "      vector1 = [0 for _ in range(len(ships))]\n",
        "      vector2 = [0 for _ in range(len(ships))]\n",
        "      ships = np.array(ships)\n",
        "      player_names1, player_names2 = [], []\n",
        "      player_id1, player_id2 = [], []\n",
        "      player_wr1, player_wr2 = [], []\n",
        "      player_exp1, player_exp2 = [], []\n",
        "      for player in jsonized[\"vehicles\"]:\n",
        "          try:\n",
        "            vec_number = np.where(ships==str(player[\"shipId\"]))[0][0]\n",
        "            if player[\"relation\"] in [0, 1]:\n",
        "                vector1[vec_number] += 1\n",
        "            else:\n",
        "                vector2[vec_number] += 1\n",
        "          except:\n",
        "            continue\n",
        "          \n",
        "          if player[\"relation\"] in [0, 1]:\n",
        "              if player[\"name\"][0] == ':' or \"IDS_OP\" in player[\"name\"]:\n",
        "                continue\n",
        "              player_names1.append(player[\"name\"])\n",
        "          else:\n",
        "              if player[\"name\"][0] == ':' or \"IDS_OP\" in player[\"name\"]:\n",
        "                continue\n",
        "              player_names2.append(player[\"name\"])\n",
        "      if (not player_names1) or (not player_names2):\n",
        "        continue\n",
        "      requestable_names = \"%2C\".join(player_names1) + \"%2C\" + \"%2C\".join(player_names2)\n",
        "      r = requests.get(f'https://api.worldofwarships.{indicatif}/wows/account/list/?search={requestable_names}&application_id=TOFILL&type=exact')\n",
        "      player_dict = {}\n",
        "      try:\n",
        "        json.loads(r.content)[\"data\"]\n",
        "      except:\n",
        "        print(json.loads(r.content))\n",
        "        print(replay_nb)\n",
        "      for account in json.loads(r.content)[\"data\"]:\n",
        "        player_dict[account[\"nickname\"]] = account[\"account_id\"]\n",
        "      player_id1 = [str(player_dict.get(elem, None)) for elem in player_names1 if player_dict.get(elem, None)!= None]\n",
        "      player_id2 = [str(player_dict.get(elem, None)) for elem in player_names2 if player_dict.get(elem, None)!= None]\n",
        "      requestable_ids = \"%2C\".join(player_id1) + \"%2C\" + \"%2C\".join(player_id2)\n",
        "      if (not player_id1) or (not player_id2):\n",
        "        continue\n",
        "      r = requests.get(f\"https://api.worldofwarships.{indicatif}/wows/account/info/?application_id=TOFILL&account_id={requestable_ids}&fields=statistics.pvp.xp%2Cstatistics.pvp.battles%2Cstatistics.pvp.wins%2Cstatistics.pvp.losses\")\n",
        "      a = json.loads(r.content)[\"data\"]\n",
        "      player_exp1 = ([a[id][\"statistics\"][\"pvp\"][\"xp\"]/a[id][\"statistics\"][\"pvp\"][\"battles\"] for id in player_id1 if a[id][\"statistics\"]!=None and a[id][\"statistics\"][\"pvp\"][\"battles\"]!=0])\n",
        "      player_wr1 = ([a[id][\"statistics\"][\"pvp\"][\"wins\"]/a[id][\"statistics\"][\"pvp\"][\"battles\"] for id in player_id1 if a[id][\"statistics\"]!=None and a[id][\"statistics\"][\"pvp\"][\"battles\"]!=0])\n",
        "      player_exp2 = ([a[id][\"statistics\"][\"pvp\"][\"xp\"]/a[id][\"statistics\"][\"pvp\"][\"battles\"] for id in player_id2 if a[id][\"statistics\"]!=None and a[id][\"statistics\"][\"pvp\"][\"battles\"]!=0])\n",
        "      player_wr2 = ([a[id][\"statistics\"][\"pvp\"][\"wins\"]/a[id][\"statistics\"][\"pvp\"][\"battles\"] for id in player_id2 if a[id][\"statistics\"]!=None and a[id][\"statistics\"][\"pvp\"][\"battles\"]!=0])\n",
        "      if (not player_exp1) or (not player_exp2) or (not player_wr1) or (not player_wr2):\n",
        "        continue\n",
        "      train = vector1 + [np.mean(player_exp1), np.max(player_exp1), np.mean(player_wr1), np.max(player_wr1)] + vector2 + [np.mean(player_exp2), np.max(player_exp2), np.mean(player_wr2), np.max(player_wr2)] + [victory]\n",
        "      data_train = np.vstack((data_train, train))\n",
        "  queue.put(data_train)\n",
        "\n",
        "class DataGetter(Thread):\n",
        "    def __init__(self, id, borneinf, bornesup, queue, time_queue, ships):\n",
        "        Thread.__init__(self)\n",
        "        self.borneinf = borneinf\n",
        "        self.bornesup = bornesup\n",
        "        self.queue = queue\n",
        "        self.time_queue = time_queue\n",
        "        self.ships = ships\n",
        "        self.id = id\n",
        "        print(f'Starting Thread {id}')\n",
        "\n",
        "    def run(self):\n",
        "        liste = np.arange(self.borneinf, self.bornesup+1, 1, dtype=int)\n",
        "        listes = np.array_split(liste, 10)\n",
        "        i = 1\n",
        "        for elem in listes:\n",
        "          try:\n",
        "              get_data(elem[0], elem[-1], self.queue, self.time_queue, self.ships)\n",
        "              print(f'Thread {self.id} : {i*10}%')\n",
        "          except:\n",
        "              print(f'Thread {self.id} : echec {i*10}%')\n",
        "              traceback.print_exc()\n",
        "          i += 1\n",
        "\n"
      ],
      "execution_count": null,
      "outputs": []
    },
    {
      "cell_type": "code",
      "metadata": {
        "id": "RfiVKlbBby0b",
        "colab_type": "code",
        "colab": {
          "base_uri": "https://localhost:8080/",
          "height": 1000
        },
        "outputId": "8d0a2b63-6321-4939-f650-6834e4751c2c"
      },
      "source": [
        "NB_THREADS = 8\n",
        "\n",
        "bucket = Queue()\n",
        "time_bucket = Queue()\n",
        "liste = np.arange(101384-20000, 101384+1, 1, dtype=int)\n",
        "listes = np.array_split(liste, NB_THREADS)\n",
        "\n",
        "thread_list = []\n",
        "timea = time.time() \n",
        "for x in range(NB_THREADS):\n",
        "    worker = DataGetter(x, listes[x][0], listes[x][-1], bucket, time_bucket, ships)\n",
        "    worker.start()\n",
        "    thread_list.append(worker)\n",
        "\n",
        "for thr in thread_list:\n",
        "    thr.join()\n",
        "\n",
        "print(time.time() - timea)"
      ],
      "execution_count": null,
      "outputs": [
        {
          "output_type": "stream",
          "text": [
            "Starting Thread 0\n",
            "Starting Thread 1\n",
            "Starting Thread 2\n",
            "Starting Thread 3\n",
            "Starting Thread 4\n",
            "Starting Thread 5\n",
            "Starting Thread 6\n",
            "Starting Thread 7\n",
            "Thread 2 : 10%\n",
            "Thread 0 : 10%\n",
            "Thread 3 : 10%\n",
            "Thread 5 : 10%\n",
            "Thread 7 : 10%\n",
            "Thread 1 : 10%\n",
            "Thread 6 : 10%\n",
            "Thread 4 : 10%\n",
            "Thread 4 : 20%\n",
            "Thread 3 : 20%\n",
            "Thread 0 : 20%\n",
            "Thread 2 : 20%\n",
            "Thread 7 : 20%\n",
            "Thread 5 : 20%\n",
            "Thread 1 : 20%\n",
            "Thread 6 : 20%\n",
            "Thread 4 : 30%\n",
            "Thread 2 : 30%\n",
            "Thread 0 : 30%\n",
            "Thread 3 : 30%\n",
            "Thread 1 : 30%\n",
            "Thread 6 : 30%\n",
            "Thread 5 : 30%\n",
            "Thread 7 : 30%\n",
            "Thread 4 : 40%\n",
            "Thread 3 : 40%\n",
            "Thread 0 : 40%\n",
            "Thread 1 : 40%\n",
            "Thread 6 : 40%\n",
            "Thread 2 : 40%\n",
            "Thread 5 : 40%\n",
            "Thread 7 : 40%\n",
            "Thread 3 : 50%\n",
            "Thread 4 : 50%\n",
            "Thread 2 : 50%\n",
            "Thread 0 : 50%\n",
            "Thread 1 : 50%\n",
            "Thread 5 : 50%\n",
            "Thread 7 : 50%\n",
            "Thread 6 : 50%\n",
            "Thread 4 : 60%\n",
            "Thread 0 : 60%\n",
            "Thread 3 : 60%\n",
            "Thread 5 : 60%\n",
            "Thread 2 : 60%\n",
            "Thread 7 : 60%\n",
            "Thread 1 : 60%\n",
            "Thread 6 : 60%\n",
            "Thread 4 : 70%\n",
            "Thread 3 : 70%\n",
            "Thread 0 : 70%\n",
            "Thread 5 : 70%\n",
            "Thread 2 : 70%\n",
            "Thread 7 : 70%\n",
            "Thread 1 : 70%\n",
            "Thread 6 : 70%\n",
            "Thread 0 : 80%\n",
            "Thread 4 : 80%\n",
            "Thread 5 : 80%\n",
            "Thread 2 : 80%\n",
            "Thread 3 : 80%\n",
            "Thread 7 : 80%\n",
            "Thread 1 : 80%\n",
            "Thread 6 : 80%\n",
            "Thread 0 : 90%\n",
            "Thread 4 : 90%\n",
            "Thread 5 : 90%\n",
            "Thread 2 : 90%\n",
            "Thread 3 : 90%\n",
            "Thread 1 : 90%\n",
            "Thread 7 : 90%\n",
            "Thread 6 : 90%\n",
            "Thread 0 : 100%\n",
            "Thread 5 : 100%\n",
            "Thread 4 : 100%\n",
            "Thread 2 : 100%\n",
            "Thread 1 : 100%\n",
            "Thread 3 : 100%\n",
            "Thread 6 : 100%\n",
            "Thread 7 : 100%\n",
            "6083.8775062561035\n"
          ],
          "name": "stdout"
        }
      ]
    },
    {
      "cell_type": "markdown",
      "metadata": {
        "id": "HKZVQV5Qr1Ae",
        "colab_type": "text"
      },
      "source": [
        "**Statistics :**\n",
        "- 1 thread : ~3s / replay\n",
        "- 2 threads : 1.3s / replay\n",
        "- 4 threads : 0.73s / replay\n",
        "- 8 threads : 0.3s / replay\n"
      ]
    },
    {
      "cell_type": "markdown",
      "metadata": {
        "id": "BpPELdAKrq50",
        "colab_type": "text"
      },
      "source": [
        "## Extract from the queue"
      ]
    },
    {
      "cell_type": "code",
      "metadata": {
        "id": "Mhp81cBIcjfS",
        "colab_type": "code",
        "colab": {
          "base_uri": "https://localhost:8080/",
          "height": 34
        },
        "outputId": "43c7a662-23ad-4f65-c679-3fd4fe661ecc"
      },
      "source": [
        "bucket.qsize()"
      ],
      "execution_count": null,
      "outputs": [
        {
          "output_type": "execute_result",
          "data": {
            "text/plain": [
              "80"
            ]
          },
          "metadata": {
            "tags": []
          },
          "execution_count": 11
        }
      ]
    },
    {
      "cell_type": "code",
      "metadata": {
        "id": "NPq59M_AiQ5d",
        "colab_type": "code",
        "colab": {}
      },
      "source": [
        "l = []\n",
        "for i in range(bucket.qsize()):\n",
        "  l.append(bucket.get())"
      ],
      "execution_count": null,
      "outputs": []
    },
    {
      "cell_type": "code",
      "metadata": {
        "id": "l6rkF4vMCL-r",
        "colab_type": "code",
        "colab": {}
      },
      "source": [
        "np.save(\"/content/drive/My Drive/my_saved_queue2.obj\", np.array(l))"
      ],
      "execution_count": null,
      "outputs": []
    },
    {
      "cell_type": "code",
      "metadata": {
        "id": "Da3g54ruvOlb",
        "colab_type": "code",
        "colab": {
          "base_uri": "https://localhost:8080/",
          "height": 34
        },
        "outputId": "b2c76d93-5fbc-4179-ea04-a9a251757335"
      },
      "source": [
        "l[0].shape"
      ],
      "execution_count": null,
      "outputs": [
        {
          "output_type": "execute_result",
          "data": {
            "text/plain": [
              "(194, 877)"
            ]
          },
          "metadata": {
            "tags": []
          },
          "execution_count": 14
        }
      ]
    },
    {
      "cell_type": "code",
      "metadata": {
        "id": "5-DsboE1CqHj",
        "colab_type": "code",
        "colab": {}
      },
      "source": [
        "data_train = np.empty((0,877))\n",
        "for elem in l:\n",
        "  data_train = np.vstack((data_train, elem))"
      ],
      "execution_count": null,
      "outputs": []
    },
    {
      "cell_type": "code",
      "metadata": {
        "id": "iUJGRaMYDMlr",
        "colab_type": "code",
        "colab": {}
      },
      "source": [
        "np.save(\"/content/drive/My Drive/data_train2\", data_train)"
      ],
      "execution_count": null,
      "outputs": []
    },
    {
      "cell_type": "code",
      "metadata": {
        "id": "v5mC0S7wfD93",
        "colab_type": "code",
        "colab": {
          "base_uri": "https://localhost:8080/",
          "height": 34
        },
        "outputId": "ce815666-1308-460f-d7c1-ff91e901c88a"
      },
      "source": [
        "data_train.shape"
      ],
      "execution_count": null,
      "outputs": [
        {
          "output_type": "execute_result",
          "data": {
            "text/plain": [
              "(16098, 877)"
            ]
          },
          "metadata": {
            "tags": []
          },
          "execution_count": 17
        }
      ]
    },
    {
      "cell_type": "code",
      "metadata": {
        "id": "PBzpmwr_fWWA",
        "colab_type": "code",
        "colab": {}
      },
      "source": [
        "test = np.load(\"/content/drive/My Drive/data_train2.npy\", allow_pickle=True) "
      ],
      "execution_count": null,
      "outputs": []
    },
    {
      "cell_type": "code",
      "metadata": {
        "id": "hASD7lXZfiPH",
        "colab_type": "code",
        "colab": {
          "base_uri": "https://localhost:8080/",
          "height": 34
        },
        "outputId": "f16003af-fd6f-472d-a492-6a22f353f1bf"
      },
      "source": [
        "test.shape"
      ],
      "execution_count": null,
      "outputs": [
        {
          "output_type": "execute_result",
          "data": {
            "text/plain": [
              "(16098, 877)"
            ]
          },
          "metadata": {
            "tags": []
          },
          "execution_count": 21
        }
      ]
    },
    {
      "cell_type": "markdown",
      "metadata": {
        "id": "8l7fkh5ksel4",
        "colab_type": "text"
      },
      "source": [
        "Fast checking ok"
      ]
    },
    {
      "cell_type": "code",
      "metadata": {
        "id": "GRGbv7mPsfj9",
        "colab_type": "code",
        "colab": {}
      },
      "source": [
        ""
      ],
      "execution_count": null,
      "outputs": []
    }
  ]
}